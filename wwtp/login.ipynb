{
 "cells": [
  {
   "cell_type": "markdown",
   "metadata": {},
   "source": [
    "<h1> 1.读取登录信息</h1>\n",
    "用于使用sdk的测试账户需要保存在user_info.json中，包括租户id，用户名，密码等信息。登录成功后，会将返回的token保存到user_info.json中，用于后续的接口调用。</br>\n",
    "如需试用，请联系我们 [DHI 中国 业务中台](https://online-products.dhichina.cn/) 获取使用许可和认证信息。"
   ]
  },
  {
   "cell_type": "code",
   "execution_count": null,
   "metadata": {},
   "outputs": [],
   "source": [
    "import json\n",
    "\n",
    "with open('user_info.json', 'r', encoding='utf-8') as f:\n",
    "    payload = json.load(f)\n",
    "\n",
    "tenantId=payload[\"tenantId\"]\n",
    "username=payload[\"adminUserName\"]\n",
    "password=payload[\"password\"]\n",
    "print(tenantId)\n",
    "print(username)\n",
    "print(password)"
   ]
  },
  {
   "cell_type": "markdown",
   "metadata": {},
   "source": [
    "<h1> 2.登录 </h1>\n",
    "登录时需要填写的参数包括client_id、client_secret、grant_type、username、password，其中client_id、client_secret、grant_type的值需要给如下所示的固定值，无需更改。username、password需要通过第一步获取。"
   ]
  },
  {
   "cell_type": "code",
   "execution_count": 27,
   "metadata": {},
   "outputs": [],
   "source": [
    "#第一步：导入用户认证服务包\n",
    "from dhicn_identity_service import *\n",
    "import json\n",
    "\n",
    "# 第二步：设置服务地址\n",
    "configuration=Configuration.get_default_copy()\n",
    "configuration.host=\"https://online-products.dhichina.cn/gateway/identity-service\" #服务地址\n",
    "api_client=ApiClient(configuration)\n",
    "api_client.set_default_header('tenantId',tenantId)\n",
    "\n",
    "# 第三步：构建参数\n",
    "param={\n",
    "'client_id':'IdentityServer_App',\n",
    "'client_secret':'955q2w3e*',\n",
    "'grant_type':'password',\n",
    "'username':username,\n",
    "'password':password\n",
    "}\n",
    "\n",
    "#第四步：接口调用\n",
    "connect_instance = ConnectApi(api_client)\n",
    "response = connect_instance.connect_token_post(**param)\n",
    "token=response['access_token']\n",
    "payload[\"token\"]=token\n",
    "\n",
    "#保存token\n",
    "with open('user_info.json', 'w', encoding='utf-8') as f:\n",
    "    json.dump(payload, f)"
   ]
  },
  {
   "cell_type": "markdown",
   "metadata": {},
   "source": [
    "<h1>3.读取认证信息和租户信息</h1>\n",
    "认证信息不需要在每次调用接口时都去通过登录重新获取，认证信息的有效时间是7天，因此在7天内都可以重复使用，可以直接读取user_info.json中保存的认证信息。"
   ]
  },
  {
   "cell_type": "code",
   "execution_count": null,
   "metadata": {},
   "outputs": [],
   "source": [
    "import json\n",
    "\n",
    "with open('user_info.json', 'r', encoding='utf-8') as f:\n",
    "    payload = json.load(f)\n",
    "\n",
    "token=payload[\"token\"]\n",
    "tenantId=payload[\"tenantId\"]\n",
    "print(token)"
   ]
  }
 ],
 "metadata": {
  "kernelspec": {
   "display_name": ".venv",
   "language": "python",
   "name": "python3"
  },
  "language_info": {
   "codemirror_mode": {
    "name": "ipython",
    "version": 3
   },
   "file_extension": ".py",
   "mimetype": "text/x-python",
   "name": "python",
   "nbconvert_exporter": "python",
   "pygments_lexer": "ipython3",
   "version": "3.11.3"
  },
  "orig_nbformat": 4
 },
 "nbformat": 4,
 "nbformat_minor": 2
}
