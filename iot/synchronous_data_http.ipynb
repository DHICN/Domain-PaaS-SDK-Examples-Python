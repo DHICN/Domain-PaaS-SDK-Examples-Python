{
 "cells": [
  {
   "cell_type": "markdown",
   "metadata": {},
   "source": [
    "<h1>1.读取认证信息和租户信息</h1>\n",
    "认证信息不需要在每次调用接口时都去通过登录重新获取，认证信息的有效时间是7天，因此在7天内都可以重复使用，可以直接读取user_info.json中保存的认证信息。"
   ]
  },
  {
   "cell_type": "code",
   "execution_count": null,
   "metadata": {},
   "outputs": [],
   "source": [
    "import json\n",
    "\n",
    "with open('user_info.json', 'r', encoding='utf-8') as f:\n",
    "    payload = json.load(f)\n",
    "\n",
    "token=payload[\"token\"]\n",
    "tenantId=payload[\"tenantId\"]\n",
    "print(\"认证信息：\",token)\n",
    "print(\"租户信息：\",tenantId)"
   ]
  },
  {
   "cell_type": "markdown",
   "metadata": {},
   "source": [
    "<h1>2.通过Http推送实测数据</h1>\n",
    "接口参数是数组，可以同时推送多个设备的实测数据，每个设备需要设置deviceId、telemetryDataJson两个参数信息。</br>\n",
    "deviceId是导入设备时自动生成的一个设备Id，需要通过设备信息接口获取。</br>\n",
    "telemetryDataJson是单个时间戳的多个指标数据，telemetryDataJson 是一个 json 对象的序列化字符串，ts是时间戳（毫秒），value 是一个 kv 字典，key 表示设备的指标名称，如：Discharge、WaterLevel 等，value 表示指标数据的实测值</br>"
   ]
  },
  {
   "cell_type": "code",
   "execution_count": null,
   "metadata": {},
   "outputs": [],
   "source": [
    "import os\n",
    "from dhicn_iot_service import *\n",
    "import time\n",
    "\n",
    "configuration=Configuration.get_default_copy()\n",
    "configuration.host=\"https://online-products.dhichina.cn/gateway/iot-service\" #服务地址\n",
    "api_client=ApiClient(configuration)\n",
    "api_client.set_default_header('Authorization',token)\n",
    "api_client.set_default_header('tenantId',tenantId)\n",
    "\n",
    "#获取设备信息\n",
    "device_instance=DeviceApi(api_client)\n",
    "param={\n",
    "    'page_index':1,\n",
    "    'page_size':1000\n",
    "}\n",
    "response = device_instance.api_v1_iot_device_list_get(**param)\n",
    "\n",
    "#构建参数\n",
    "values={\n",
    "    'Discharge':160,\n",
    "    'WaterLevel':100\n",
    "}\n",
    "telemetryDataJson={\n",
    "    'ts':time.time()*1000,\n",
    "    'values':values\n",
    "}\n",
    "telemetry_data_json=f'{telemetryDataJson}'\n",
    "param=[{\"deviceId\":response[\"data\"][\"list\"][0][\"id\"],\"telemetryDataJson\":telemetry_data_json},{\"deviceId\":response[\"data\"][\"list\"][1][\"id\"],\"telemetryDataJson\":telemetry_data_json}]\n",
    "print(param)\n",
    "\n",
    "#接口调用\n",
    "telemetry_instance=TelemetryApi(api_client)\n",
    "response = telemetry_instance.api_v1_iot_save_telemetry_data_batch_post(save_telemetry_data_input=param)\n",
    "print(\"result:\", response)\n",
    "if response[\"status\"] == False:\n",
    "    os._exit()"
   ]
  },
  {
   "cell_type": "markdown",
   "metadata": {},
   "source": [
    "<h1>3.获取实测数据</h1>\n",
    "推送实测数据有三种方式，包括http、opcua、mqtt，分别对应了不同的推送方式，但获取数据的接口都是同一个。也就是如下所示接口</br>\n",
    "在获取数据时需要用到设备ID/指标名称，因此需要先获取设备信息，解析出deviceId和Indicator。"
   ]
  },
  {
   "cell_type": "code",
   "execution_count": null,
   "metadata": {},
   "outputs": [],
   "source": [
    "from dhicn_iot_service import *\n",
    "\n",
    "def find_key(key, array):\n",
    "    if isinstance(array, dict):\n",
    "        if array['key']==key:\n",
    "            return array['value']\n",
    "        else:\n",
    "             return None\n",
    "    elif isinstance(array, list):\n",
    "        for item in array:\n",
    "            result = find_key(key, item)\n",
    "            if result is not None:\n",
    "                return result\n",
    "\n",
    "\n",
    "configuration=Configuration.get_default_copy()\n",
    "configuration.host=\"https://online-products.dhichina.cn/gateway/iot-service\" #服务地址\n",
    "api_client=ApiClient(configuration)\n",
    "api_client.set_default_header('Authorization',token)\n",
    "api_client.set_default_header('tenantId',tenantId)\n",
    "\n",
    "#获取设备信息\n",
    "device_instance=DeviceApi(api_client)\n",
    "param={\n",
    "    'page_index':1,\n",
    "    'page_size':1000\n",
    "}\n",
    "response = device_instance.api_v1_iot_device_list_get(**param)\n",
    "attributes=response[\"data\"][\"list\"][0][\"attributes\"]\n",
    "indicators = find_key(\"indicators\",attributes)\n",
    "\n",
    "print(indicators)\n",
    "indicators=json.loads(indicators)\n",
    "print(indicators[0][\"Indicator\"])\n",
    "print(indicators[1][\"Indicator\"])\n",
    "\n",
    "#构建参数\n",
    "timeseries_input=[{\n",
    "        \"deviceId\": response[\"data\"][\"list\"][0][\"id\"],\n",
    "        \"endTs\": \"2023-08-04T18:13:27\",\n",
    "        \"keys\": [indicators[0][\"Indicator\"],indicators[0][\"Indicator\"]],\n",
    "        \"startTs\": \"2023-08-03T16:13:27\",\n",
    "        \"orderBy\": \"asc\"\n",
    "    },\n",
    "    {\n",
    "        \"deviceId\": response[\"data\"][\"list\"][1][\"id\"],\n",
    "        \"endTs\": \"2023-08-04T18:13:27\",\n",
    "        \"keys\": [indicators[0][\"Indicator\"],indicators[0][\"Indicator\"]],\n",
    "        \"startTs\": \"2023-08-03T16:13:27\",\n",
    "        \"orderBy\": \"asc\"\n",
    "    }\n",
    "]\n",
    "telemetry_instance=TelemetryApi(api_client)\n",
    "response=telemetry_instance.api_v2_iot_timeseries_batch_post(timeseries_input=timeseries_input)\n",
    "print(\"result:\", response)\n",
    "if response[\"status\"] == False:\n",
    "    os._exit()"
   ]
  }
 ],
 "metadata": {
  "kernelspec": {
   "display_name": ".venv",
   "language": "python",
   "name": "python3"
  },
  "language_info": {
   "codemirror_mode": {
    "name": "ipython",
    "version": 3
   },
   "file_extension": ".py",
   "mimetype": "text/x-python",
   "name": "python",
   "nbconvert_exporter": "python",
   "pygments_lexer": "ipython3",
   "version": "3.11.3"
  },
  "orig_nbformat": 4
 },
 "nbformat": 4,
 "nbformat_minor": 2
}
