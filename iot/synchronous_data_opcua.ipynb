{
 "cells": [
  {
   "cell_type": "markdown",
   "metadata": {},
   "source": [
    "<h1>1.读取认证信息和租户信息</h1>\n",
    "认证信息不需要在每次调用接口时都去通过登录重新获取，认证信息的有效时间是7天，因此在7天内都可以重复使用，可以直接读取user_info.json中保存的认证信息。"
   ]
  },
  {
   "cell_type": "code",
   "execution_count": null,
   "metadata": {},
   "outputs": [],
   "source": [
    "import json\n",
    "\n",
    "with open('user_info.json', 'r', encoding='utf-8') as f:\n",
    "    payload = json.load(f)\n",
    "\n",
    "token=payload[\"token\"]\n",
    "tenantId=payload[\"tenantId\"]\n",
    "print(\"认证信息：\",token)\n",
    "print(\"租户信息：\",tenantId)"
   ]
  },
  {
   "cell_type": "markdown",
   "metadata": {},
   "source": [
    "<h1>opc ua接入实测数据有两种方式，一种是直接获取到工控设备的当前实时数据。另一种是将所有的设备数据同步到iot服务后，使用统一接口读取同步过来的数据</h1>"
   ]
  },
  {
   "cell_type": "markdown",
   "metadata": {},
   "source": [
    "<h1>2.推送数据(opc-ua)：方式一</h1>\n",
    "<h2>第一步:初始化opc ua 服务</h2>\n",
    "初始化时需要填写opc ua server信息，包括opcFlag、opcServerIp、opcServerPort、userName、password、remarks。</br>\n",
    "opcFlag：opc ua服务器的标识，后续在获取工控数据、同步数据到iot服务时都会用到。</br>\n",
    "opcServerIp、opcServerPort、userName、password：分别是opc ua服务器的ip、端口号、登录名、密码等数据。</br>\n",
    "remarks：备注信息，可空"
   ]
  },
  {
   "cell_type": "code",
   "execution_count": null,
   "metadata": {},
   "outputs": [],
   "source": [
    "import os\n",
    "from dhicn_iot_service import *\n",
    "\n",
    "configuration=Configuration.get_default_copy()\n",
    "configuration.host=\"https://online-products.dhichina.cn/gateway/iot-service\" #服务地址\n",
    "api_client=ApiClient(configuration)\n",
    "api_client.set_default_header('Authorization',token)\n",
    "api_client.set_default_header('tenantId',tenantId)\n",
    "\n",
    "opcua_instance=OpcuaApi(api_client)\n",
    "init_opc_ua_config_input=[{\n",
    "        \"opcFlag\": \"opcua_test_1\",\n",
    "        \"opcServerIp\": \"172.16.176.36\",\n",
    "        \"opcServerPort\": \"34561\",\n",
    "        \"userName\": 'admin',\n",
    "        \"password\": '123456',\n",
    "        \"remarks\": ''\n",
    "}]\n",
    "response=opcua_instance.api_v1_opc_ua_init_post(init_opc_ua_config_input=init_opc_ua_config_input)\n",
    "\n",
    "print(\"result:\", response)\n",
    "if response[\"status\"] == False:\n",
    "    os._exit()"
   ]
  },
  {
   "cell_type": "markdown",
   "metadata": {},
   "source": [
    "<h2>第二步：添加opc ua 监测点</h2>"
   ]
  },
  {
   "cell_type": "code",
   "execution_count": null,
   "metadata": {},
   "outputs": [],
   "source": [
    "import os\n",
    "from dhicn_iot_service import *\n",
    "def find_key(key, array):\n",
    "    if isinstance(array, dict):\n",
    "        if array['key']==key:\n",
    "            return array['value']\n",
    "        else:\n",
    "             return None\n",
    "    elif isinstance(array, list):\n",
    "        for item in array:\n",
    "            result = find_key(key, item)\n",
    "            if result is not None:\n",
    "                return result\n",
    "\n",
    "\n",
    "configuration=Configuration.get_default_copy()\n",
    "configuration.host=\"https://online-products.dhichina.cn/gateway/iot-service\" #服务地址\n",
    "api_client=ApiClient(configuration)\n",
    "api_client.set_default_header('Authorization',token)\n",
    "api_client.set_default_header('tenantId',tenantId)\n",
    "\n",
    "#获取设备信息\n",
    "device_instance=DeviceApi(api_client)\n",
    "param={\n",
    "    'page_index':1,\n",
    "    'page_size':1000\n",
    "}\n",
    "response = device_instance.api_v1_iot_device_list_get(**param)\n",
    "attributes=response[\"data\"][\"list\"][0][\"attributes\"]\n",
    "indicators = find_key(\"indicators\",attributes)\n",
    "print(indicators)\n",
    "indicators=json.loads(indicators)\n",
    "print(indicators[0][\"Indicator\"],indicators[0][\"Id\"])\n",
    "print(indicators[1][\"Indicator\"],indicators[1][\"Id\"])\n",
    "\n",
    "#构建参数\n",
    "opcua_instance=OpcuaApi(api_client)\n",
    "add_opc_ua_com_input=[{\n",
    "    \"indicatorId\": indicators[0][\"Id\"],\n",
    "    \"nodeName\": \"流量\",\n",
    "    \"node\": \"ns=2;s=Devices/测试节点/测试设备/流量\",\n",
    "    \"unit\": \"m³/s\",\n",
    "    \"dataType\": 2,\n",
    "    \"decimalPlaces\": 0,\n",
    "    \"timeProcessingMode\": 0,\n",
    "    \"period\": 0,\n",
    "    \"opcFlag\": \"opcua_test_1\"\n",
    "},{\n",
    " \"indicatorId\": indicators[1][\"Id\"],\n",
    "    \"nodeName\": \"水位\",\n",
    "    \"node\": \"ns=2;s=Devices/测试节点/测试设备/水位\",\n",
    "    \"unit\": \"m\",\n",
    "    \"dataType\": 2,\n",
    "    \"decimalPlaces\": 0,\n",
    "    \"timeProcessingMode\": 0,\n",
    "    \"period\": 0,\n",
    "    \"opcFlag\": \"opcua_test_1\"\n",
    "}]\n",
    "response=opcua_instance.api_v1_opc_ua_add_communication_post(add_opc_ua_com_input=add_opc_ua_com_input)\n",
    "\n",
    "print(\"result:\", response)\n",
    "if response[\"status\"] == False:\n",
    "    os._exit()"
   ]
  },
  {
   "cell_type": "markdown",
   "metadata": {},
   "source": [
    "<h2>第三步：读取opc ua 所有监测点</h2>"
   ]
  },
  {
   "cell_type": "code",
   "execution_count": null,
   "metadata": {},
   "outputs": [],
   "source": [
    "import os\n",
    "from dhicn_iot_service import *\n",
    "def find_key(key, array):\n",
    "    if isinstance(array, dict):\n",
    "        if array['key']==key:\n",
    "            return array['value']\n",
    "        else:\n",
    "             return None\n",
    "    elif isinstance(array, list):\n",
    "        for item in array:\n",
    "            result = find_key(key, item)\n",
    "            if result is not None:\n",
    "                return result\n",
    "\n",
    "\n",
    "configuration=Configuration.get_default_copy()\n",
    "configuration.host=\"https://online-products.dhichina.cn/gateway/iot-service\" #服务地址\n",
    "api_client=ApiClient(configuration)\n",
    "api_client.set_default_header('Authorization',token)\n",
    "api_client.set_default_header('tenantId',tenantId)\n",
    "\n",
    "#获取设备信息\n",
    "device_instance=DeviceApi(api_client)\n",
    "param={\n",
    "    'page_index':1,\n",
    "    'page_size':1000\n",
    "}\n",
    "response = device_instance.api_v1_iot_device_list_get(**param)\n",
    "attributes=response[\"data\"][\"list\"][0][\"attributes\"]\n",
    "indicators = find_key(\"indicators\",attributes)\n",
    "print(indicators)\n",
    "indicators=json.loads(indicators)\n",
    "print(indicators[0][\"Indicator\"],indicators[0][\"Id\"])\n",
    "print(indicators[1][\"Indicator\"],indicators[1][\"Id\"])\n",
    "\n",
    "#构建参数\n",
    "opcua_instance=OpcuaApi(api_client)\n",
    "param={}\n",
    "response=opcua_instance.api_v1_opc_ua_query_communication_post(query_opc_ua_com_input=param)\n",
    "\n",
    "print(\"result:\", response)\n",
    "if response[\"status\"] == False:\n",
    "    os._exit()"
   ]
  },
  {
   "cell_type": "markdown",
   "metadata": {},
   "source": [
    "<h2>第四步：读取工控实时数据</h2>"
   ]
  },
  {
   "cell_type": "code",
   "execution_count": null,
   "metadata": {},
   "outputs": [],
   "source": [
    "\n",
    "from dhicn_iot_service import *\n",
    "import os\n",
    "\n",
    "configuration=Configuration.get_default_copy()\n",
    "configuration.host=\"https://online-products.dhichina.cn/gateway/iot-service\" #服务地址\n",
    "api_client=ApiClient(configuration)\n",
    "api_client.set_default_header('Authorization',token)\n",
    "api_client.set_default_header('tenantId',tenantId)\n",
    "\n",
    "opcua_instance=OpcuaApi(api_client)\n",
    "read_node_input={\n",
    "    \"dataType\": \"DblValue\",\n",
    "    \"node\": \"ns=2;s=Devices/测试节点/测试设备/流量\",\n",
    "    \"opcFlag\": \"opcua_test_1\"\n",
    "}\n",
    "param={\n",
    "    \"read_node_input\":read_node_input\n",
    "}\n",
    "response = opcua_instance.api_v1_opc_ua_read_node_post(**param)\n",
    "\n",
    "print(\"result:\", response)\n",
    "if response[\"status\"] == False:\n",
    "    os._exit()"
   ]
  },
  {
   "cell_type": "markdown",
   "metadata": {},
   "source": [
    "<h2>3.推送数据(opc-ua)：方式二</h2>"
   ]
  },
  {
   "cell_type": "markdown",
   "metadata": {},
   "source": [
    "<h2>第一步:初始化opc ua 服务 </h2>\n",
    "<h2>第二步：添加opc ua 监测点</h2>\n",
    "<h2>第三步：读取opc ua 所有监测点</h2>\n",
    "以上第一二三步骤同方式一一致"
   ]
  },
  {
   "cell_type": "markdown",
   "metadata": {},
   "source": [
    "<h2>第四步：同步工控数据到iot服务</h2>"
   ]
  },
  {
   "cell_type": "code",
   "execution_count": null,
   "metadata": {},
   "outputs": [],
   "source": [
    "\n",
    "from dhicn_iot_service import *\n",
    "import os\n",
    "\n",
    "configuration=Configuration.get_default_copy()\n",
    "configuration.host=\"https://online-products.dhichina.cn/gateway/iot-service\" #服务地址\n",
    "api_client=ApiClient(configuration)\n",
    "api_client.set_default_header('Authorization',token)\n",
    "api_client.set_default_header('tenantId',tenantId)\n",
    "\n",
    "opcua_instance=OpcuaApi(api_client)\n",
    "\n",
    "response = opcua_instance.api_v1_opc_ua_sync_telemetry_data_post(tenant_id=tenantId)\n",
    "\n",
    "print(\"result:\", response)\n",
    "if response[\"status\"] == False:\n",
    "    os._exit()"
   ]
  },
  {
   "cell_type": "markdown",
   "metadata": {},
   "source": [
    "<h2>第五步：获取实测数据</h2>\n",
    "推送实测数据有三种方式，包括http、opcua、mqtt，分别对应了不同的推送方式，但获取数据的接口都是同一个。也就是如下所示接口</br>\n",
    "在获取数据时需要用到设备ID/指标名称，因此需要先获取设备信息，解析出deviceId和Indicator。"
   ]
  },
  {
   "cell_type": "code",
   "execution_count": null,
   "metadata": {},
   "outputs": [],
   "source": [
    "from dhicn_iot_service import *\n",
    "\n",
    "def find_key(key, array):\n",
    "    if isinstance(array, dict):\n",
    "        if array['key']==key:\n",
    "            return array['value']\n",
    "        else:\n",
    "             return None\n",
    "    elif isinstance(array, list):\n",
    "        for item in array:\n",
    "            result = find_key(key, item)\n",
    "            if result is not None:\n",
    "                return result\n",
    "\n",
    "\n",
    "configuration=Configuration.get_default_copy()\n",
    "configuration.host=\"https://online-products.dhichina.cn/gateway/iot-service\" #服务地址\n",
    "api_client=ApiClient(configuration)\n",
    "api_client.set_default_header('Authorization',token)\n",
    "api_client.set_default_header('tenantId',tenantId)\n",
    "\n",
    "#获取设备信息\n",
    "device_instance=DeviceApi(api_client)\n",
    "param={\n",
    "    'page_index':1,\n",
    "    'page_size':1000\n",
    "}\n",
    "response = device_instance.api_v1_iot_device_list_get(**param)\n",
    "attributes=response[\"data\"][\"list\"][0][\"attributes\"]\n",
    "indicators = find_key(\"indicators\",attributes)\n",
    "\n",
    "print(indicators)\n",
    "indicators=json.loads(indicators)\n",
    "print(indicators[0][\"Indicator\"])\n",
    "print(indicators[1][\"Indicator\"])\n",
    "\n",
    "#构建参数\n",
    "timeseries_input=[{\n",
    "        \"deviceId\": response[\"data\"][\"list\"][0][\"id\"],\n",
    "        \"endTs\": \"2023-08-04T18:13:27\",\n",
    "        \"keys\": [indicators[0][\"Indicator\"],indicators[0][\"Indicator\"]],\n",
    "        \"startTs\": \"2023-08-03T16:13:27\",\n",
    "        \"orderBy\": \"asc\"\n",
    "    },\n",
    "    {\n",
    "        \"deviceId\": response[\"data\"][\"list\"][1][\"id\"],\n",
    "        \"endTs\": \"2023-08-04T18:13:27\",\n",
    "        \"keys\": [indicators[0][\"Indicator\"],indicators[0][\"Indicator\"]],\n",
    "        \"startTs\": \"2023-08-03T16:13:27\",\n",
    "        \"orderBy\": \"asc\"\n",
    "    }\n",
    "]\n",
    "telemetry_instance=TelemetryApi(api_client)\n",
    "response=telemetry_instance.api_v2_iot_timeseries_batch_post(timeseries_input=timeseries_input)\n",
    "print(\"result:\", response)\n",
    "if response[\"status\"] == False:\n",
    "    os._exit()"
   ]
  }
 ],
 "metadata": {
  "kernelspec": {
   "display_name": ".venv",
   "language": "python",
   "name": "python3"
  },
  "language_info": {
   "codemirror_mode": {
    "name": "ipython",
    "version": 3
   },
   "file_extension": ".py",
   "mimetype": "text/x-python",
   "name": "python",
   "nbconvert_exporter": "python",
   "pygments_lexer": "ipython3",
   "version": "3.11.3"
  },
  "orig_nbformat": 4
 },
 "nbformat": 4,
 "nbformat_minor": 2
}
